{
  "nbformat": 4,
  "nbformat_minor": 0,
  "metadata": {
    "colab": {
      "provenance": [],
      "gpuType": "T4",
      "authorship_tag": "ABX9TyP280r0Jn2s64/2PTnCueZC",
      "include_colab_link": true
    },
    "kernelspec": {
      "name": "python3",
      "display_name": "Python 3"
    },
    "language_info": {
      "name": "python"
    },
    "accelerator": "GPU"
  },
  "cells": [
    {
      "cell_type": "markdown",
      "metadata": {
        "id": "view-in-github",
        "colab_type": "text"
      },
      "source": [
        "<a href=\"https://colab.research.google.com/github/yshahanov/deep-convolutional-networks/blob/main/Fashion_MNIST_(L2_reguralization).ipynb\" target=\"_parent\"><img src=\"https://colab.research.google.com/assets/colab-badge.svg\" alt=\"Open In Colab\"/></a>"
      ]
    },
    {
      "cell_type": "code",
      "execution_count": 1,
      "metadata": {
        "colab": {
          "base_uri": "https://localhost:8080/"
        },
        "id": "2o9xHSrbRarV",
        "outputId": "79761a55-902a-4cfe-a275-91bebe424448"
      },
      "outputs": [
        {
          "output_type": "stream",
          "name": "stdout",
          "text": [
            "Downloading http://fashion-mnist.s3-website.eu-central-1.amazonaws.com/train-images-idx3-ubyte.gz\n",
            "Downloading http://fashion-mnist.s3-website.eu-central-1.amazonaws.com/train-images-idx3-ubyte.gz to ./data/FashionMNIST/raw/train-images-idx3-ubyte.gz\n"
          ]
        },
        {
          "output_type": "stream",
          "name": "stderr",
          "text": [
            "100%|██████████| 26421880/26421880 [00:01<00:00, 14692040.05it/s]\n"
          ]
        },
        {
          "output_type": "stream",
          "name": "stdout",
          "text": [
            "Extracting ./data/FashionMNIST/raw/train-images-idx3-ubyte.gz to ./data/FashionMNIST/raw\n",
            "\n",
            "Downloading http://fashion-mnist.s3-website.eu-central-1.amazonaws.com/train-labels-idx1-ubyte.gz\n",
            "Downloading http://fashion-mnist.s3-website.eu-central-1.amazonaws.com/train-labels-idx1-ubyte.gz to ./data/FashionMNIST/raw/train-labels-idx1-ubyte.gz\n"
          ]
        },
        {
          "output_type": "stream",
          "name": "stderr",
          "text": [
            "100%|██████████| 29515/29515 [00:00<00:00, 267465.67it/s]\n"
          ]
        },
        {
          "output_type": "stream",
          "name": "stdout",
          "text": [
            "Extracting ./data/FashionMNIST/raw/train-labels-idx1-ubyte.gz to ./data/FashionMNIST/raw\n",
            "\n",
            "Downloading http://fashion-mnist.s3-website.eu-central-1.amazonaws.com/t10k-images-idx3-ubyte.gz\n",
            "Downloading http://fashion-mnist.s3-website.eu-central-1.amazonaws.com/t10k-images-idx3-ubyte.gz to ./data/FashionMNIST/raw/t10k-images-idx3-ubyte.gz\n"
          ]
        },
        {
          "output_type": "stream",
          "name": "stderr",
          "text": [
            "100%|██████████| 4422102/4422102 [00:00<00:00, 5015552.93it/s]\n"
          ]
        },
        {
          "output_type": "stream",
          "name": "stdout",
          "text": [
            "Extracting ./data/FashionMNIST/raw/t10k-images-idx3-ubyte.gz to ./data/FashionMNIST/raw\n",
            "\n",
            "Downloading http://fashion-mnist.s3-website.eu-central-1.amazonaws.com/t10k-labels-idx1-ubyte.gz\n",
            "Downloading http://fashion-mnist.s3-website.eu-central-1.amazonaws.com/t10k-labels-idx1-ubyte.gz to ./data/FashionMNIST/raw/t10k-labels-idx1-ubyte.gz\n"
          ]
        },
        {
          "output_type": "stream",
          "name": "stderr",
          "text": [
            "100%|██████████| 5148/5148 [00:00<00:00, 23368265.14it/s]\n"
          ]
        },
        {
          "output_type": "stream",
          "name": "stdout",
          "text": [
            "Extracting ./data/FashionMNIST/raw/t10k-labels-idx1-ubyte.gz to ./data/FashionMNIST/raw\n",
            "\n",
            "Epoch [1/5], Step [100/938], Loss: 0.5287\n",
            "Epoch [1/5], Step [200/938], Loss: 0.5022\n",
            "Epoch [1/5], Step [300/938], Loss: 0.4211\n",
            "Epoch [1/5], Step [400/938], Loss: 0.3906\n",
            "Epoch [1/5], Step [500/938], Loss: 0.3197\n",
            "Epoch [1/5], Step [600/938], Loss: 0.2453\n",
            "Epoch [1/5], Step [700/938], Loss: 0.3166\n",
            "Epoch [1/5], Step [800/938], Loss: 0.1734\n",
            "Epoch [1/5], Step [900/938], Loss: 0.1775\n",
            "Epoch [2/5], Step [100/938], Loss: 0.2477\n",
            "Epoch [2/5], Step [200/938], Loss: 0.2727\n",
            "Epoch [2/5], Step [300/938], Loss: 0.2449\n",
            "Epoch [2/5], Step [400/938], Loss: 0.3103\n",
            "Epoch [2/5], Step [500/938], Loss: 0.2794\n",
            "Epoch [2/5], Step [600/938], Loss: 0.2646\n",
            "Epoch [2/5], Step [700/938], Loss: 0.3927\n",
            "Epoch [2/5], Step [800/938], Loss: 0.2433\n",
            "Epoch [2/5], Step [900/938], Loss: 0.4221\n",
            "Epoch [3/5], Step [100/938], Loss: 0.2104\n",
            "Epoch [3/5], Step [200/938], Loss: 0.3298\n",
            "Epoch [3/5], Step [300/938], Loss: 0.2615\n",
            "Epoch [3/5], Step [400/938], Loss: 0.1637\n",
            "Epoch [3/5], Step [500/938], Loss: 0.1801\n",
            "Epoch [3/5], Step [600/938], Loss: 0.2407\n",
            "Epoch [3/5], Step [700/938], Loss: 0.2585\n",
            "Epoch [3/5], Step [800/938], Loss: 0.3509\n",
            "Epoch [3/5], Step [900/938], Loss: 0.3648\n",
            "Epoch [4/5], Step [100/938], Loss: 0.2783\n",
            "Epoch [4/5], Step [200/938], Loss: 0.2328\n",
            "Epoch [4/5], Step [300/938], Loss: 0.3051\n",
            "Epoch [4/5], Step [400/938], Loss: 0.3255\n",
            "Epoch [4/5], Step [500/938], Loss: 0.3572\n",
            "Epoch [4/5], Step [600/938], Loss: 0.2487\n",
            "Epoch [4/5], Step [700/938], Loss: 0.4634\n",
            "Epoch [4/5], Step [800/938], Loss: 0.2706\n",
            "Epoch [4/5], Step [900/938], Loss: 0.4131\n",
            "Epoch [5/5], Step [100/938], Loss: 0.2064\n",
            "Epoch [5/5], Step [200/938], Loss: 0.2027\n",
            "Epoch [5/5], Step [300/938], Loss: 0.2717\n",
            "Epoch [5/5], Step [400/938], Loss: 0.2334\n",
            "Epoch [5/5], Step [500/938], Loss: 0.3729\n",
            "Epoch [5/5], Step [600/938], Loss: 0.2065\n",
            "Epoch [5/5], Step [700/938], Loss: 0.2279\n",
            "Epoch [5/5], Step [800/938], Loss: 0.1935\n",
            "Epoch [5/5], Step [900/938], Loss: 0.2729\n",
            "Training finished.\n",
            "Test Accuracy: 90.02%\n"
          ]
        }
      ],
      "source": [
        "import torch\n",
        "import torch.nn as nn\n",
        "import torch.optim as optim\n",
        "import torchvision\n",
        "import torchvision.transforms as transforms\n",
        "from torch.utils.data import DataLoader\n",
        "\n",
        "class SimpleCNN(nn.Module):\n",
        "    def __init__(self):\n",
        "        super(SimpleCNN, self).__init__()\n",
        "        self.conv1 = nn.Conv2d(1, 32, kernel_size=3, padding=1)\n",
        "        self.relu1 = nn.ReLU()\n",
        "        self.maxpool1 = nn.MaxPool2d(kernel_size=2, stride=2)\n",
        "        self.conv2 = nn.Conv2d(32, 64, kernel_size=3, padding=1)\n",
        "        self.relu2 = nn.ReLU()\n",
        "        self.maxpool2 = nn.MaxPool2d(kernel_size=2, stride=2)\n",
        "        self.flatten = nn.Flatten()\n",
        "        self.fc1 = nn.Linear(64 * 7 * 7, 128)\n",
        "        self.relu3 = nn.ReLU()\n",
        "        self.fc2 = nn.Linear(128, 10)  # 10 classes for Fashion MNIST\n",
        "\n",
        "    def forward(self, x):\n",
        "        x = self.conv1(x)\n",
        "        x = self.relu1(x)\n",
        "        x = self.maxpool1(x)\n",
        "        x = self.conv2(x)\n",
        "        x = self.relu2(x)\n",
        "        x = self.maxpool2(x)\n",
        "        x = self.flatten(x)\n",
        "        x = self.fc1(x)\n",
        "        x = self.relu3(x)\n",
        "        x = self.fc2(x)\n",
        "        return x\n",
        "\n",
        "transform = transforms.Compose([transforms.ToTensor(), transforms.Normalize((0.5,), (0.5,))])\n",
        "\n",
        "train_dataset = torchvision.datasets.FashionMNIST(root='./data', train=True, transform=transform, download=True)\n",
        "test_dataset = torchvision.datasets.FashionMNIST(root='./data', train=False, transform=transform, download=True)\n",
        "\n",
        "train_loader = DataLoader(dataset=train_dataset, batch_size=64, shuffle=True)\n",
        "test_loader = DataLoader(dataset=test_dataset, batch_size=64, shuffle=False)\n",
        "\n",
        "model = SimpleCNN()\n",
        "criterion = nn.CrossEntropyLoss()\n",
        "\n",
        "\n",
        "# L2 reguralization is also called \"weight_decay\"\n",
        "optimizer = optim.Adam(model.parameters(), lr=0.001, weight_decay = 0.001)\n",
        "\n",
        "num_epochs = 5\n",
        "\n",
        "for epoch in range(num_epochs):\n",
        "    for i, (images, labels) in enumerate(train_loader):\n",
        "        optimizer.zero_grad()\n",
        "        outputs = model(images)\n",
        "        loss = criterion(outputs, labels)\n",
        "        loss.backward()\n",
        "        optimizer.step()\n",
        "\n",
        "        if (i+1) % 100 == 0:\n",
        "            print(f'Epoch [{epoch+1}/{num_epochs}], Step [{i+1}/{len(train_loader)}], Loss: {loss.item():.4f}')\n",
        "\n",
        "print('Training finished.')\n",
        "\n",
        "model.eval()\n",
        "correct = 0\n",
        "total = 0\n",
        "\n",
        "with torch.no_grad():\n",
        "    for images, labels in test_loader:\n",
        "        outputs = model(images)\n",
        "        _, predicted = torch.max(outputs.data, 1)\n",
        "        total += labels.size(0)\n",
        "        correct += (predicted == labels).sum().item()\n",
        "\n",
        "accuracy = correct / total\n",
        "print(f'Test Accuracy: {accuracy * 100:.2f}%')\n"
      ]
    },
    {
      "cell_type": "code",
      "source": [],
      "metadata": {
        "id": "821wh8ZQRo94"
      },
      "execution_count": null,
      "outputs": []
    }
  ]
}